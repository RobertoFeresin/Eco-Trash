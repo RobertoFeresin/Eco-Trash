{
 "cells": [
  {
   "cell_type": "markdown",
   "metadata": {},
   "source": [
    "## Extensão Universitária Aplicada 1 º Semestre 2024\n",
    "#### Tema: Sustentabilidade 360º\n",
    "\n",
    "* Líder: Eneias Nunes\n",
    "O programa \"Sustentabilidade 360° \" é uma iniciativa abrangente e\n",
    "inovadora voltada para a promoção de práticas sustentáveis em diversos\n",
    "âmbitos. Desenvolvido como um projeto de extensão, tem como objetivo\n",
    "principal disseminar conhecimentos e estimular a adoção de\n",
    "comportamentos sustentáveis em comunidades locais. A abordagem\n",
    "\"360°¨reflete a abrangência do programa, que busca integrar aspectos\n",
    "ambientais, sociais e econômicos para criar soluções holísticas.\n",
    "\n",
    "#### Projeto: Lixeira Inteligente(EcoTrash)\n"
   ]
  },
  {
   "cell_type": "code",
   "execution_count": 10,
   "metadata": {},
   "outputs": [],
   "source": [
    "import os\n",
    "os.remove(\"ecotrash_document.db\") if os.path.exists(\"ecotrash_document.db\") else None"
   ]
  },
  {
   "cell_type": "code",
   "execution_count": 11,
   "metadata": {},
   "outputs": [
    {
     "name": "stdout",
     "output_type": "stream",
     "text": [
      "Conectado a COM11 com 9600 baud.\n"
     ]
    },
    {
     "name": "stderr",
     "output_type": "stream",
     "text": [
      "C:\\Users\\Roberto\\AppData\\Local\\Temp\\ipykernel_20640\\1825610874.py:104: UserWarning: frames=None which we can infer the length of, did not pass an explicit *save_count* and passed cache_frame_data=True.  To avoid a possibly unbounded cache, frame data caching has been disabled. To suppress this warning either pass `cache_frame_data=False` or `save_count=MAX_FRAMES`.\n",
      "  ani = FuncAnimation(fig, update_bar_chart, frames=None, interval=100)\n"
     ]
    },
    {
     "data": {
      "image/png": "[encoded data removed]",
      "text/plain": [
       "<Figure size 662x480 with 1 Axes>"
      ]
     },
     "metadata": {},
     "output_type": "display_data"
    }
   ],
   "source": [
    "import sqlite3\n",
    "import serial\n",
    "import tkinter as tk\n",
    "from tkinter import ttk\n",
    "import matplotlib.pyplot as plt\n",
    "from matplotlib.backends.backend_tkagg import FigureCanvasTkAgg\n",
    "from matplotlib.animation import FuncAnimation\n",
    "\n",
    "# Configurações da porta serial\n",
    "port = 'COM11'\n",
    "baud_rate = 9600\n",
    "\n",
    "# Inicializa a lista para armazenar os dados do gráfico\n",
    "data = {'0': 0, '1': 0, '2': 0}  # Contagem para cada lixeira\n",
    "cores = {'0': 'blue', '1': 'orange', '2': 'green'}  # Cores para cada lixeira\n",
    "contagem_pressionado = {'0': 0, '1': 0, '2': 0}  # Contagem de vezes que cada lixeira foi pressionada\n",
    "estado_anterior = {'0': None, '1': None, '2': None}  # Estado anterior de cada lixeira\n",
    "\n",
    "# Função para inicializar o gráfico de barras\n",
    "def init_bar_chart():\n",
    "    fig, ax = plt.subplots()\n",
    "    ax.set_title('Contagem do Estado do Switch')\n",
    "    ax.set_ylabel('Contagem')\n",
    "    ax.set_xlabel('Lixeiras')\n",
    "    return fig, ax\n",
    "\n",
    "# Função para atualizar o gráfico com os dados mais recentes\n",
    "def update_bar_chart(frame):\n",
    "    line = ser.readline().decode('utf-8').strip()\n",
    "    if line:\n",
    "        estado, lixeira = line.split()[-2:]  # Obtém o estado e o número da lixeira\n",
    "        lixeira = lixeira.strip()\n",
    "        if estado != estado_anterior[lixeira]:  # Verifica mudança de estado\n",
    "            estado_anterior[lixeira] = estado\n",
    "            if estado == 'fimdecurso_desligado':\n",
    "                if data[lixeira] < 50:\n",
    "                    data[lixeira] += 1\n",
    "                    contagem_pressionado[lixeira] += 1  # Incrementa a contagem de vezes que a lixeira foi pressionada\n",
    "                    # Atualiza o gráfico de barras\n",
    "                    update_bar()  \n",
    "                    # Insere os dados na tabela do banco de dados\n",
    "                    insert_into_db(contagem_pressionado)\n",
    "\n",
    "# Função para inserir os dados na tabela do banco de dados\n",
    "def insert_into_db(contagem_pressionado):\n",
    "    conn = sqlite3.connect('ecotrash_document.db')\n",
    "    cursor = conn.cursor()\n",
    "    cursor.execute('''INSERT INTO coleta (lixeira0, lixeira1, lixeira2)\n",
    "                      VALUES (?, ?, ?)''', (contagem_pressionado['0'], contagem_pressionado['1'], contagem_pressionado['2']))\n",
    "    conn.commit()\n",
    "    conn.close()\n",
    "\n",
    "# Função para atualizar o gráfico de barras\n",
    "def update_bar():\n",
    "    ax.clear()\n",
    "    for i, (lixeira, contagem) in enumerate(data.items()):\n",
    "        ax.bar(i, contagem, color=cores[lixeira], label=f'Lixeira {lixeira}')\n",
    "        ax.text(i, contagem, f'{contagem_pressionado[lixeira]} Reciclado(s)', ha='center', va='bottom')\n",
    "    ax.set_title('Contagem do Estado do Switch')\n",
    "    ax.set_ylabel('Contagem')\n",
    "    ax.set_xlabel('Lixeiras')\n",
    "    ax.legend()\n",
    "    canvas.draw()\n",
    "\n",
    "# Tenta abrir a porta serial\n",
    "try:\n",
    "    ser = serial.Serial(port, baud_rate, timeout=1)\n",
    "    print(f'Conectado a {port} com {baud_rate} baud.')\n",
    "except serial.SerialException as e:\n",
    "    print(f'Erro ao tentar abrir a porta serial: {e}')\n",
    "    exit()\n",
    "\n",
    "# Cria o banco de dados e a tabela se não existirem\n",
    "conn = sqlite3.connect('ecotrash_document.db')\n",
    "cursor = conn.cursor()\n",
    "cursor.execute('''CREATE TABLE IF NOT EXISTS coleta (\n",
    "                    id INTEGER PRIMARY KEY,\n",
    "                    lixeira0 INTEGER,\n",
    "                    lixeira1 INTEGER,\n",
    "                    lixeira2 INTEGER\n",
    "                  )''')\n",
    "conn.commit()\n",
    "conn.close()\n",
    "\n",
    "# Inicializa o gráfico de barras\n",
    "fig, ax = init_bar_chart()\n",
    "\n",
    "# Cria a janela Tkinter\n",
    "root = tk.Tk()\n",
    "root.title(\"Contagem do Estado do Switch\")\n",
    "\n",
    "# Adiciona a imagem no topo\n",
    "imagem = tk.PhotoImage(file=\"logoEcotrash.png\")  # Substitua pelo caminho real da sua imagem\n",
    "label_imagem = tk.Label(root, image=imagem)\n",
    "label_imagem.image = imagem  # Mantém uma referência para a imagem para evitar a coleta de lixo\n",
    "label_imagem.pack(side=\"top\")  # Posiciona a imagem na parte superior da janela\n",
    "\n",
    "# Adiciona o gráfico à janela Tkinter\n",
    "canvas = FigureCanvasTkAgg(fig, master=root)\n",
    "canvas_widget = canvas.get_tk_widget()\n",
    "canvas_widget.pack(fill=tk.BOTH, expand=True)\n",
    "\n",
    "# Atualiza o gráfico de barras em intervalos regulares\n",
    "ani = FuncAnimation(fig, update_bar_chart, frames=None, interval=100)\n",
    "\n",
    "# Inicia o loop principal da interface gráfica Tkinter\n",
    "root.mainloop()\n",
    "\n",
    "# Fecha a porta serial ao fechar a janela\n",
    "ser.close()\n"
   ]
  },
  {
   "cell_type": "markdown",
   "metadata": {},
   "source": [
    "link para visualização de dados no banco de dados:  https://inloop.github.io/sqlite-viewer/"
   ]
  }
 ],
 "metadata": {
  "kernelspec": {
   "display_name": "base",
   "language": "python",
   "name": "python3"
  },
  "language_info": {
   "codemirror_mode": {
    "name": "ipython",
    "version": 3
   },
   "file_extension": ".py",
   "mimetype": "text/x-python",
   "name": "python",
   "nbconvert_exporter": "python",
   "pygments_lexer": "ipython3",
   "version": "3.11.7"
  }
 },
 "nbformat": 4,
 "nbformat_minor": 2
}
